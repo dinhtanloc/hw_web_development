{
 "cells": [
  {
   "cell_type": "markdown",
   "metadata": {},
   "source": [
    "# Fine tune Module GPT. Build chatbot from OPENAI API"
   ]
  },
  {
   "cell_type": "code",
   "execution_count": 6,
   "metadata": {},
   "outputs": [],
   "source": [
    "import openai\n",
    "from io import StringIO\n",
    "from dotenv import load_dotenv\n",
    "import pandas as pd\n",
    "import os\n",
    "\n"
   ]
  },
  {
   "cell_type": "code",
   "execution_count": 7,
   "metadata": {},
   "outputs": [
    {
     "name": "stdout",
     "output_type": "stream",
     "text": [
      "API keys đã được tải lên\n"
     ]
    }
   ],
   "source": [
    "if load_dotenv(dotenv_path='../ueh-web-dev/backend/.env'):\n",
    "    print('API keys đã được tải lên') \n",
    "else:\n",
    "    print('API keys chưa được tải lên')"
   ]
  },
  {
   "cell_type": "code",
   "execution_count": 10,
   "metadata": {},
   "outputs": [],
   "source": [
    "api_key = os.getenv('AI_key')\n",
    "client = openai.OpenAI(\n",
    "    api_key = os.getenv('AI_key'),\n",
    ")\n",
    "openai.api_key = api_key\n",
    "module_name = 'gpt-3.5-turbo'\n",
    "train = '../data/data.jsonl'\n",
    "valid='../data/data.jsonl'\n"
   ]
  },
  {
   "cell_type": "code",
   "execution_count": null,
   "metadata": {},
   "outputs": [],
   "source": []
  },
  {
   "cell_type": "markdown",
   "metadata": {},
   "source": [
    "## Prepare train data"
   ]
  },
  {
   "cell_type": "code",
   "execution_count": null,
   "metadata": {},
   "outputs": [],
   "source": []
  },
  {
   "cell_type": "code",
   "execution_count": null,
   "metadata": {},
   "outputs": [],
   "source": [
    "with open(train,'rb') as file:\n",
    "    response = client.files.create(\n",
    "        file = file,\n",
    "        purpose= 'fine-tune',\n",
    "    )\n",
    "train_id =response\n",
    "print(f'Train dataset uploaded successfully with: {response}')"
   ]
  },
  {
   "cell_type": "markdown",
   "metadata": {},
   "source": [
    "## Prepare valid data"
   ]
  },
  {
   "cell_type": "code",
   "execution_count": null,
   "metadata": {},
   "outputs": [],
   "source": [
    "with open(valid,'rb') as file:\n",
    "    response = client.files.create(\n",
    "        file = file,\n",
    "        purpose= 'fine-tune',\n",
    "    )\n",
    "valid_id =response\n",
    "print(f'Valid dataset uploaded successfully with: {response}')"
   ]
  },
  {
   "cell_type": "code",
   "execution_count": null,
   "metadata": {},
   "outputs": [],
   "source": [
    "model = client.fine_tuning.jobs.create(\n",
    "    model = \"gpt-3.5-turbo\", \n",
    "    training_file = train_id,\n",
    "    validation_file = valid_id,\n",
    "    suffix = \"Lbot\"\n",
    ")"
   ]
  },
  {
   "cell_type": "code",
   "execution_count": null,
   "metadata": {},
   "outputs": [],
   "source": [
    "from io import StringIO\n",
    "def get_step_metrics(file_id):\n",
    "    content = openai.File.download(file_id)\n",
    "    eval_result = StringIO(content.decode())\n",
    "    df = pd.read_csv(eval_result, sep=\",\")\n",
    "    return df"
   ]
  },
  {
   "cell_type": "code",
   "execution_count": null,
   "metadata": {},
   "outputs": [],
   "source": []
  }
 ],
 "metadata": {
  "kernelspec": {
   "display_name": "web",
   "language": "python",
   "name": "python3"
  },
  "language_info": {
   "codemirror_mode": {
    "name": "ipython",
    "version": 3
   },
   "file_extension": ".py",
   "mimetype": "text/x-python",
   "name": "python",
   "nbconvert_exporter": "python",
   "pygments_lexer": "ipython3",
   "version": "3.8.18"
  }
 },
 "nbformat": 4,
 "nbformat_minor": 2
}
