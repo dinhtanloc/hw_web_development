{
 "cells": [
  {
   "cell_type": "markdown",
   "metadata": {},
   "source": [
    "# Fine tune Module GPT. Build chatbot from OPENAI API"
   ]
  },
  {
   "cell_type": "code",
   "execution_count": 7,
   "metadata": {},
   "outputs": [],
   "source": [
    "import openai\n",
    "from io import StringIO\n",
    "from dotenv import load_dotenv\n",
    "import pandas as pd\n",
    "import os\n",
    "\n"
   ]
  },
  {
   "cell_type": "code",
   "execution_count": 23,
   "metadata": {},
   "outputs": [
    {
     "name": "stdout",
     "output_type": "stream",
     "text": [
      "API keys đã được tải lên\n"
     ]
    }
   ],
   "source": [
    "if load_dotenv(dotenv_path='../ueh-web-dev/backend/.env'):\n",
    "    print('API keys đã được tải lên') \n",
    "else:\n",
    "    print('API keys chưa được tải lên')"
   ]
  },
  {
   "cell_type": "code",
   "execution_count": 9,
   "metadata": {},
   "outputs": [],
   "source": [
    "api_key = os.getenv('AI_key')\n",
    "client = openai.OpenAI(\n",
    "    api_key = os.getenv('AI_key'),\n",
    ")\n",
    "# openai.api_key = api_key\n",
    "module_name = 'gpt-3.5-turbo'\n",
    "train = '../data/train.jsonl'\n",
    "valid='../data/valid.jsonl'\n"
   ]
  },
  {
   "cell_type": "markdown",
   "metadata": {},
   "source": [
    "## Prepare train data"
   ]
  },
  {
   "cell_type": "code",
   "execution_count": 10,
   "metadata": {},
   "outputs": [
    {
     "name": "stdout",
     "output_type": "stream",
     "text": [
      "Train dataset uploaded successfully!\n"
     ]
    }
   ],
   "source": [
    "with open(train,'rb') as file:\n",
    "    response = client.files.create(\n",
    "        file = file,\n",
    "        purpose= 'fine-tune',\n",
    "    )\n",
    "train_id =response.id\n",
    "print(f'Train dataset uploaded successfully!')\n",
    "# print(f'Train dataset uploaded successfully with: {response}')"
   ]
  },
  {
   "cell_type": "markdown",
   "metadata": {},
   "source": [
    "## Prepare valid data"
   ]
  },
  {
   "cell_type": "code",
   "execution_count": 11,
   "metadata": {},
   "outputs": [
    {
     "name": "stdout",
     "output_type": "stream",
     "text": [
      "Valid dataset uploaded successfully!\n"
     ]
    }
   ],
   "source": [
    "with open(valid,'rb') as file:\n",
    "    response = client.files.create(\n",
    "        file = file,\n",
    "        purpose= 'fine-tune',\n",
    "    )\n",
    "valid_id =response.id\n",
    "print(f'Valid dataset uploaded successfully!')\n",
    "# print(f'Valid dataset uploaded successfully with: {response}')"
   ]
  },
  {
   "cell_type": "code",
   "execution_count": 12,
   "metadata": {},
   "outputs": [],
   "source": [
    "model = client.fine_tuning.jobs.create(\n",
    "    model = \"gpt-3.5-turbo\", \n",
    "    training_file = train_id,\n",
    "    validation_file = valid_id,\n",
    "    suffix = \"Lbot_training\"\n",
    ")"
   ]
  },
  {
   "cell_type": "code",
   "execution_count": null,
   "metadata": {},
   "outputs": [],
   "source": [
    "def get_step_metrics(file_id):\n",
    "    content = client.files.download(file_id)\n",
    "    eval_result = StringIO(content.decode())\n",
    "    df = pd.read_csv(eval_result, sep=\",\")\n",
    "    return df"
   ]
  },
  {
   "cell_type": "code",
   "execution_count": 17,
   "metadata": {},
   "outputs": [
    {
     "name": "stdout",
     "output_type": "stream",
     "text": [
      "You are an employee of Lstore, specializing in selling cars from all segments. Please guide customers on how to use our website\n"
     ]
    }
   ],
   "source": [
    "import random as rd\n",
    "print(rd.choice([\"You are car retailer at Lstore . Please answer any question to help guest and customer to use car website!\",\"You are an employee of Lstore, specializing in selling cars from all segments. Please guide customers on how to use our website\",\"You are an assistant at a car dealership in Vietnam. Please guide customers on how to place an order!\", \"You are a car retailer at Lstore. Please answer any question to help guests and customers use the car website!\",\"You work at Lstore, specializing in car sales across all segments. Please assist customers with using our website.\"])\n",
    ")\n",
    "content_system=rd.choice([\"You are car retailer at Lstore . Please answer any question to help guest and customer to use car website!\",\"You are an employee of Lstore, specializing in selling cars from all segments. Please guide customers on how to use our website\",\"You are an assistant at a car dealership in Vietnam. Please guide customers on how to place an order!\", \"You are a car retailer at Lstore. Please answer any question to help guests and customers use the car website!\",\"You work at Lstore, specializing in car sales across all segments. Please assist customers with using our website.\"])"
   ]
  },
  {
   "cell_type": "code",
   "execution_count": 25,
   "metadata": {},
   "outputs": [
    {
     "data": {
      "text/plain": [
       "True"
      ]
     },
     "execution_count": 25,
     "metadata": {},
     "output_type": "execute_result"
    }
   ],
   "source": [
    "load_dotenv(dotenv_path='../ueh-web-dev/backend/.env')"
   ]
  },
  {
   "cell_type": "code",
   "execution_count": 26,
   "metadata": {},
   "outputs": [],
   "source": [
    "def chatbot_response(user_message, content_system):\n",
    "    response = client.chat.completions.create(\n",
    "                model=os.getenv('CHATBOT_model'),  \n",
    "                messages=[{\"role\": \"system\", \"content\": content_system}, {\"role\": \"user\", \"content\": user_message}],\n",
    "                max_tokens=150\n",
    "                )\n",
    "    return response.choices[0].message.content"
   ]
  },
  {
   "cell_type": "code",
   "execution_count": 27,
   "metadata": {},
   "outputs": [
    {
     "name": "stdout",
     "output_type": "stream",
     "text": [
      "Hello! How can I assist you today?\n"
     ]
    }
   ],
   "source": [
    "print(chatbot_response(\"hello\",content_system))"
   ]
  },
  {
   "cell_type": "code",
   "execution_count": null,
   "metadata": {},
   "outputs": [],
   "source": []
  }
 ],
 "metadata": {
  "kernelspec": {
   "display_name": "web",
   "language": "python",
   "name": "python3"
  },
  "language_info": {
   "codemirror_mode": {
    "name": "ipython",
    "version": 3
   },
   "file_extension": ".py",
   "mimetype": "text/x-python",
   "name": "python",
   "nbconvert_exporter": "python",
   "pygments_lexer": "ipython3",
   "version": "3.8.18"
  }
 },
 "nbformat": 4,
 "nbformat_minor": 2
}
